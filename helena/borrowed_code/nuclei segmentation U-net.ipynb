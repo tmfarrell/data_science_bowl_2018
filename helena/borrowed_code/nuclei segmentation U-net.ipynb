{
 "cells": [
  {
   "cell_type": "code",
   "execution_count": 2,
   "metadata": {
    "collapsed": true
   },
   "outputs": [],
   "source": [
    "def list_files(path):\n",
    "    # returns a list of names (with extension, without full path) of all files \n",
    "    # in folder path\n",
    "    files = []\n",
    "    for name in os.listdir(path):\n",
    "        if os.path.isfile(os.path.join(path, name)):\n",
    "            files.append(name)\n",
    "    return files\n",
    "\n",
    "training_data_folder = \"/Users/Lena/Documents/DATA/NucleiSegmentationDL/\"\n"
   ]
  },
  {
   "cell_type": "code",
   "execution_count": 3,
   "metadata": {},
   "outputs": [
    {
     "name": "stderr",
     "output_type": "stream",
     "text": [
      "Using TensorFlow backend.\n"
     ]
    }
   ],
   "source": [
    "import os\n",
    "import sys\n",
    "import random\n",
    "import warnings\n",
    "\n",
    "import numpy as np\n",
    "import pandas as pd\n",
    "\n",
    "import matplotlib.pyplot as plt\n",
    "\n",
    "from tqdm import tqdm\n",
    "from itertools import chain\n",
    "from skimage.io import imread, imshow, imread_collection, concatenate_images\n",
    "from skimage.transform import resize\n",
    "from skimage.morphology import label\n",
    "\n",
    "from keras.models import Model, load_model\n",
    "from keras.layers import Input\n",
    "from keras.layers.core import Dropout, Lambda\n",
    "from keras.layers.convolutional import Conv2D, Conv2DTranspose\n",
    "from keras.layers.pooling import MaxPooling2D\n",
    "from keras.layers.merge import concatenate\n",
    "from keras.callbacks import EarlyStopping, ModelCheckpoint\n",
    "from keras import backend as K\n",
    "\n",
    "import tensorflow as tf\n",
    "\n",
    "# Set some parameters\n",
    "IMG_WIDTH = 128\n",
    "IMG_HEIGHT = 128\n",
    "IMG_CHANNELS = 3\n",
    "TRAIN_PATH = training_data_folder+'/stage1_train/'\n",
    "TEST_PATH = training_data_folder+'/stage1_test/'\n",
    "\n",
    "warnings.filterwarnings('ignore', category=UserWarning, module='skimage')\n",
    "seed = 42\n",
    "random.seed = seed\n",
    "np.random.seed = seed\n"
   ]
  },
  {
   "cell_type": "code",
   "execution_count": 4,
   "metadata": {
    "collapsed": true
   },
   "outputs": [],
   "source": [
    "# Get train and test IDs\n",
    "train_ids = next(os.walk(TRAIN_PATH))[1]\n",
    "test_ids = next(os.walk(TEST_PATH))[1]"
   ]
  },
  {
   "cell_type": "code",
   "execution_count": 5,
   "metadata": {},
   "outputs": [
    {
     "data": {
      "text/plain": [
       "65"
      ]
     },
     "execution_count": 5,
     "metadata": {},
     "output_type": "execute_result"
    }
   ],
   "source": [
    "len(test_ids)"
   ]
  },
  {
   "cell_type": "code",
   "execution_count": 6,
   "metadata": {},
   "outputs": [
    {
     "name": "stdout",
     "output_type": "stream",
     "text": [
      "Getting and resizing train images and masks ... \n"
     ]
    }
   ],
   "source": [
    "# Get and resize train images and masks\n",
    "X_train = np.zeros((len(train_ids), IMG_HEIGHT, IMG_WIDTH, IMG_CHANNELS), dtype=np.uint8)\n",
    "Y_train = np.zeros((len(train_ids), IMG_HEIGHT, IMG_WIDTH, 1), dtype=np.bool)\n",
    "print('Getting and resizing train images and masks ... ')\n",
    "sys.stdout.flush()"
   ]
  },
  {
   "cell_type": "code",
   "execution_count": 7,
   "metadata": {},
   "outputs": [
    {
     "name": "stderr",
     "output_type": "stream",
     "text": [
      "100%|██████████| 670/670 [03:46<00:00,  2.95it/s]\n"
     ]
    }
   ],
   "source": [
    "for n, id_ in tqdm(enumerate(train_ids), total=len(train_ids)):\n",
    "    path = TRAIN_PATH + id_\n",
    "    img = imread(path + '/images/' + id_ + '.png')[:,:,:IMG_CHANNELS]\n",
    "    img = resize(img, (IMG_HEIGHT, IMG_WIDTH), mode='constant', preserve_range=True)\n",
    "    X_train[n] = img\n",
    "    mask = np.zeros((IMG_HEIGHT, IMG_WIDTH, 1), dtype=np.bool)\n",
    "    for mask_file in next(os.walk(path + '/masks/'))[2]:\n",
    "        mask_ = imread(path + '/masks/' + mask_file)\n",
    "        mask_ = np.expand_dims(resize(mask_, (IMG_HEIGHT, IMG_WIDTH), mode='constant', \n",
    "                                      preserve_range=True), axis=-1)\n",
    "        mask = np.maximum(mask, mask_)\n",
    "    Y_train[n] = mask"
   ]
  },
  {
   "cell_type": "code",
   "execution_count": 8,
   "metadata": {},
   "outputs": [
    {
     "name": "stdout",
     "output_type": "stream",
     "text": [
      "Getting and resizing test images ... \n"
     ]
    },
    {
     "name": "stderr",
     "output_type": "stream",
     "text": [
      "100%|██████████| 65/65 [00:01<00:00, 39.52it/s]"
     ]
    },
    {
     "name": "stdout",
     "output_type": "stream",
     "text": [
      "Done!\n"
     ]
    },
    {
     "name": "stderr",
     "output_type": "stream",
     "text": [
      "\n"
     ]
    }
   ],
   "source": [
    "# Get and resize test images\n",
    "X_test = np.zeros((len(test_ids), IMG_HEIGHT, IMG_WIDTH, IMG_CHANNELS), dtype=np.uint8)\n",
    "sizes_test = []\n",
    "print('Getting and resizing test images ... ')\n",
    "sys.stdout.flush()\n",
    "for n, id_ in tqdm(enumerate(test_ids), total=len(test_ids)):\n",
    "    path = TEST_PATH + id_\n",
    "    img = imread(path + '/images/' + id_ + '.png')[:,:,:IMG_CHANNELS]\n",
    "    sizes_test.append([img.shape[0], img.shape[1]])\n",
    "    img = resize(img, (IMG_HEIGHT, IMG_WIDTH), mode='constant', preserve_range=True)\n",
    "    X_test[n] = img\n",
    "\n",
    "print('Done!')"
   ]
  },
  {
   "cell_type": "code",
   "execution_count": 9,
   "metadata": {},
   "outputs": [
    {
     "data": {
      "text/plain": [
       "(670, 128, 128, 3)"
      ]
     },
     "execution_count": 9,
     "metadata": {},
     "output_type": "execute_result"
    }
   ],
   "source": [
    "X_train.shape"
   ]
  },
  {
   "cell_type": "code",
   "execution_count": 10,
   "metadata": {},
   "outputs": [
    {
     "data": {
      "text/plain": [
       "(670, 128, 128, 1)"
      ]
     },
     "execution_count": 10,
     "metadata": {},
     "output_type": "execute_result"
    }
   ],
   "source": [
    "Y_train.shape"
   ]
  },
  {
   "cell_type": "code",
   "execution_count": 11,
   "metadata": {},
   "outputs": [
    {
     "data": {
      "image/png": "[encoded data removed]",
      "text/plain": [
       "<matplotlib.figure.Figure at 0x104776090>"
      ]
     },
     "metadata": {},
     "output_type": "display_data"
    },
    {
     "data": {
      "image/png": "[encoded data removed]",
      "text/plain": [
       "<matplotlib.figure.Figure at 0x104d6b610>"
      ]
     },
     "metadata": {},
     "output_type": "display_data"
    }
   ],
   "source": [
    "# Check if training data looks all right\n",
    "ix = random.randint(0, len(train_ids))\n",
    "imshow(X_train[ix])\n",
    "plt.show()\n",
    "imshow(np.squeeze(Y_train[ix]))\n",
    "plt.show()"
   ]
  },
  {
   "cell_type": "code",
   "execution_count": 12,
   "metadata": {
    "collapsed": true
   },
   "outputs": [],
   "source": [
    "# Define IoU metric\n",
    "def mean_iou(y_true, y_pred):\n",
    "    prec = []\n",
    "    for t in np.arange(0.5, 1.0, 0.05):\n",
    "        y_pred_ = tf.to_int32(y_pred > t)\n",
    "        score, up_opt = tf.metrics.mean_iou(y_true, y_pred_, 2)\n",
    "        K.get_session().run(tf.local_variables_initializer())\n",
    "        with tf.control_dependencies([up_opt]):\n",
    "            score = tf.identity(score)\n",
    "        prec.append(score)\n",
    "    return K.mean(K.stack(prec), axis=0)"
   ]
  },
  {
   "cell_type": "code",
   "execution_count": 13,
   "metadata": {},
   "outputs": [
    {
     "name": "stdout",
     "output_type": "stream",
     "text": [
      "____________________________________________________________________________________________________\n",
      "Layer (type)                     Output Shape          Param #     Connected to                     \n",
      "====================================================================================================\n",
      "input_1 (InputLayer)             (None, 128, 128, 3)   0                                            \n",
      "____________________________________________________________________________________________________\n",
      "lambda_1 (Lambda)                (None, 128, 128, 3)   0           input_1[0][0]                    \n",
      "____________________________________________________________________________________________________\n",
      "conv2d_1 (Conv2D)                (None, 128, 128, 16)  448         lambda_1[0][0]                   \n",
      "____________________________________________________________________________________________________\n",
      "dropout_1 (Dropout)              (None, 128, 128, 16)  0           conv2d_1[0][0]                   \n",
      "____________________________________________________________________________________________________\n",
      "conv2d_2 (Conv2D)                (None, 128, 128, 16)  2320        dropout_1[0][0]                  \n",
      "____________________________________________________________________________________________________\n",
      "max_pooling2d_1 (MaxPooling2D)   (None, 64, 64, 16)    0           conv2d_2[0][0]                   \n",
      "____________________________________________________________________________________________________\n",
      "conv2d_3 (Conv2D)                (None, 64, 64, 32)    4640        max_pooling2d_1[0][0]            \n",
      "____________________________________________________________________________________________________\n",
      "dropout_2 (Dropout)              (None, 64, 64, 32)    0           conv2d_3[0][0]                   \n",
      "____________________________________________________________________________________________________\n",
      "conv2d_4 (Conv2D)                (None, 64, 64, 32)    9248        dropout_2[0][0]                  \n",
      "____________________________________________________________________________________________________\n",
      "max_pooling2d_2 (MaxPooling2D)   (None, 32, 32, 32)    0           conv2d_4[0][0]                   \n",
      "____________________________________________________________________________________________________\n",
      "conv2d_5 (Conv2D)                (None, 32, 32, 64)    18496       max_pooling2d_2[0][0]            \n",
      "____________________________________________________________________________________________________\n",
      "dropout_3 (Dropout)              (None, 32, 32, 64)    0           conv2d_5[0][0]                   \n",
      "____________________________________________________________________________________________________\n",
      "conv2d_6 (Conv2D)                (None, 32, 32, 64)    36928       dropout_3[0][0]                  \n",
      "____________________________________________________________________________________________________\n",
      "max_pooling2d_3 (MaxPooling2D)   (None, 16, 16, 64)    0           conv2d_6[0][0]                   \n",
      "____________________________________________________________________________________________________\n",
      "conv2d_7 (Conv2D)                (None, 16, 16, 128)   73856       max_pooling2d_3[0][0]            \n",
      "____________________________________________________________________________________________________\n",
      "dropout_4 (Dropout)              (None, 16, 16, 128)   0           conv2d_7[0][0]                   \n",
      "____________________________________________________________________________________________________\n",
      "conv2d_8 (Conv2D)                (None, 16, 16, 128)   147584      dropout_4[0][0]                  \n",
      "____________________________________________________________________________________________________\n",
      "max_pooling2d_4 (MaxPooling2D)   (None, 8, 8, 128)     0           conv2d_8[0][0]                   \n",
      "____________________________________________________________________________________________________\n",
      "conv2d_9 (Conv2D)                (None, 8, 8, 256)     295168      max_pooling2d_4[0][0]            \n",
      "____________________________________________________________________________________________________\n",
      "dropout_5 (Dropout)              (None, 8, 8, 256)     0           conv2d_9[0][0]                   \n",
      "____________________________________________________________________________________________________\n",
      "conv2d_10 (Conv2D)               (None, 8, 8, 256)     590080      dropout_5[0][0]                  \n",
      "____________________________________________________________________________________________________\n",
      "conv2d_transpose_1 (Conv2DTransp (None, 16, 16, 128)   131200      conv2d_10[0][0]                  \n",
      "____________________________________________________________________________________________________\n",
      "concatenate_1 (Concatenate)      (None, 16, 16, 256)   0           conv2d_transpose_1[0][0]         \n",
      "                                                                   conv2d_8[0][0]                   \n",
      "____________________________________________________________________________________________________\n",
      "conv2d_11 (Conv2D)               (None, 16, 16, 128)   295040      concatenate_1[0][0]              \n",
      "____________________________________________________________________________________________________\n",
      "dropout_6 (Dropout)              (None, 16, 16, 128)   0           conv2d_11[0][0]                  \n",
      "____________________________________________________________________________________________________\n",
      "conv2d_12 (Conv2D)               (None, 16, 16, 128)   147584      dropout_6[0][0]                  \n",
      "____________________________________________________________________________________________________\n",
      "conv2d_transpose_2 (Conv2DTransp (None, 32, 32, 64)    32832       conv2d_12[0][0]                  \n",
      "____________________________________________________________________________________________________\n",
      "concatenate_2 (Concatenate)      (None, 32, 32, 128)   0           conv2d_transpose_2[0][0]         \n",
      "                                                                   conv2d_6[0][0]                   \n",
      "____________________________________________________________________________________________________\n",
      "conv2d_13 (Conv2D)               (None, 32, 32, 64)    73792       concatenate_2[0][0]              \n",
      "____________________________________________________________________________________________________\n",
      "dropout_7 (Dropout)              (None, 32, 32, 64)    0           conv2d_13[0][0]                  \n",
      "____________________________________________________________________________________________________\n",
      "conv2d_14 (Conv2D)               (None, 32, 32, 64)    36928       dropout_7[0][0]                  \n",
      "____________________________________________________________________________________________________\n",
      "conv2d_transpose_3 (Conv2DTransp (None, 64, 64, 32)    8224        conv2d_14[0][0]                  \n",
      "____________________________________________________________________________________________________\n",
      "concatenate_3 (Concatenate)      (None, 64, 64, 64)    0           conv2d_transpose_3[0][0]         \n",
      "                                                                   conv2d_4[0][0]                   \n",
      "____________________________________________________________________________________________________\n",
      "conv2d_15 (Conv2D)               (None, 64, 64, 32)    18464       concatenate_3[0][0]              \n",
      "____________________________________________________________________________________________________\n",
      "dropout_8 (Dropout)              (None, 64, 64, 32)    0           conv2d_15[0][0]                  \n",
      "____________________________________________________________________________________________________\n",
      "conv2d_16 (Conv2D)               (None, 64, 64, 32)    9248        dropout_8[0][0]                  \n",
      "____________________________________________________________________________________________________\n",
      "conv2d_transpose_4 (Conv2DTransp (None, 128, 128, 16)  2064        conv2d_16[0][0]                  \n",
      "____________________________________________________________________________________________________\n",
      "concatenate_4 (Concatenate)      (None, 128, 128, 32)  0           conv2d_transpose_4[0][0]         \n",
      "                                                                   conv2d_2[0][0]                   \n",
      "____________________________________________________________________________________________________\n",
      "conv2d_17 (Conv2D)               (None, 128, 128, 16)  4624        concatenate_4[0][0]              \n",
      "____________________________________________________________________________________________________\n",
      "dropout_9 (Dropout)              (None, 128, 128, 16)  0           conv2d_17[0][0]                  \n",
      "____________________________________________________________________________________________________\n",
      "conv2d_18 (Conv2D)               (None, 128, 128, 16)  2320        dropout_9[0][0]                  \n",
      "____________________________________________________________________________________________________\n",
      "conv2d_19 (Conv2D)               (None, 128, 128, 1)   17          conv2d_18[0][0]                  \n",
      "====================================================================================================\n",
      "Total params: 1,941,105\n",
      "Trainable params: 1,941,105\n",
      "Non-trainable params: 0\n",
      "____________________________________________________________________________________________________\n"
     ]
    }
   ],
   "source": [
    "# Build U-Net model\n",
    "inputs = Input((IMG_HEIGHT, IMG_WIDTH, IMG_CHANNELS))\n",
    "s = Lambda(lambda x: x / 255) (inputs)\n",
    "\n",
    "c1 = Conv2D(16, (3, 3), activation='elu', kernel_initializer='he_normal', padding='same') (s)\n",
    "c1 = Dropout(0.1) (c1)\n",
    "c1 = Conv2D(16, (3, 3), activation='elu', kernel_initializer='he_normal', padding='same') (c1)\n",
    "p1 = MaxPooling2D((2, 2)) (c1)\n",
    "\n",
    "c2 = Conv2D(32, (3, 3), activation='elu', kernel_initializer='he_normal', padding='same') (p1)\n",
    "c2 = Dropout(0.1) (c2)\n",
    "c2 = Conv2D(32, (3, 3), activation='elu', kernel_initializer='he_normal', padding='same') (c2)\n",
    "p2 = MaxPooling2D((2, 2)) (c2)\n",
    "\n",
    "c3 = Conv2D(64, (3, 3), activation='elu', kernel_initializer='he_normal', padding='same') (p2)\n",
    "c3 = Dropout(0.2) (c3)\n",
    "c3 = Conv2D(64, (3, 3), activation='elu', kernel_initializer='he_normal', padding='same') (c3)\n",
    "p3 = MaxPooling2D((2, 2)) (c3)\n",
    "\n",
    "c4 = Conv2D(128, (3, 3), activation='elu', kernel_initializer='he_normal', padding='same') (p3)\n",
    "c4 = Dropout(0.2) (c4)\n",
    "c4 = Conv2D(128, (3, 3), activation='elu', kernel_initializer='he_normal', padding='same') (c4)\n",
    "p4 = MaxPooling2D(pool_size=(2, 2)) (c4)\n",
    "\n",
    "c5 = Conv2D(256, (3, 3), activation='elu', kernel_initializer='he_normal', padding='same') (p4)\n",
    "c5 = Dropout(0.3) (c5)\n",
    "c5 = Conv2D(256, (3, 3), activation='elu', kernel_initializer='he_normal', padding='same') (c5)\n",
    "\n",
    "u6 = Conv2DTranspose(128, (2, 2), strides=(2, 2), padding='same') (c5)\n",
    "u6 = concatenate([u6, c4])\n",
    "c6 = Conv2D(128, (3, 3), activation='elu', kernel_initializer='he_normal', padding='same') (u6)\n",
    "c6 = Dropout(0.2) (c6)\n",
    "c6 = Conv2D(128, (3, 3), activation='elu', kernel_initializer='he_normal', padding='same') (c6)\n",
    "\n",
    "u7 = Conv2DTranspose(64, (2, 2), strides=(2, 2), padding='same') (c6)\n",
    "u7 = concatenate([u7, c3])\n",
    "c7 = Conv2D(64, (3, 3), activation='elu', kernel_initializer='he_normal', padding='same') (u7)\n",
    "c7 = Dropout(0.2) (c7)\n",
    "c7 = Conv2D(64, (3, 3), activation='elu', kernel_initializer='he_normal', padding='same') (c7)\n",
    "\n",
    "u8 = Conv2DTranspose(32, (2, 2), strides=(2, 2), padding='same') (c7)\n",
    "u8 = concatenate([u8, c2])\n",
    "c8 = Conv2D(32, (3, 3), activation='elu', kernel_initializer='he_normal', padding='same') (u8)\n",
    "c8 = Dropout(0.1) (c8)\n",
    "c8 = Conv2D(32, (3, 3), activation='elu', kernel_initializer='he_normal', padding='same') (c8)\n",
    "\n",
    "u9 = Conv2DTranspose(16, (2, 2), strides=(2, 2), padding='same') (c8)\n",
    "u9 = concatenate([u9, c1], axis=3)\n",
    "c9 = Conv2D(16, (3, 3), activation='elu', kernel_initializer='he_normal', padding='same') (u9)\n",
    "c9 = Dropout(0.1) (c9)\n",
    "c9 = Conv2D(16, (3, 3), activation='elu', kernel_initializer='he_normal', padding='same') (c9)\n",
    "\n",
    "outputs = Conv2D(1, (1, 1), activation='sigmoid') (c9)\n",
    "\n",
    "model = Model(inputs=[inputs], outputs=[outputs])\n",
    "model.compile(optimizer='adam', loss='binary_crossentropy', metrics=[mean_iou, 'accuracy'])\n",
    "model.summary()"
   ]
  },
  {
   "cell_type": "code",
   "execution_count": 14,
   "metadata": {},
   "outputs": [
    {
     "name": "stdout",
     "output_type": "stream",
     "text": [
      "Train on 603 samples, validate on 67 samples\n",
      "Epoch 1/50\n",
      "592/603 [============================>.] - ETA: 5s - loss: 0.4104 - mean_iou: 0.4095 - acc: 0.8332 Epoch 00000: val_loss improved from inf to 0.30221, saving model to /Users/Lena/Documents/DATA/NucleiSegmentationDL/u_net_model-dsbowl2018-1.h5\n",
      "603/603 [==============================] - 304s - loss: 0.4100 - mean_iou: 0.4097 - acc: 0.8323 - val_loss: 0.3022 - val_mean_iou: 0.4289 - val_acc: 0.9175\n",
      "Epoch 2/50\n",
      "592/603 [============================>.] - ETA: 3s - loss: 0.2095 - mean_iou: 0.4812 - acc: 0.9159Epoch 00001: val_loss improved from 0.30221 to 0.14554, saving model to /Users/Lena/Documents/DATA/NucleiSegmentationDL/u_net_model-dsbowl2018-1.h5\n",
      "603/603 [==============================] - 204s - loss: 0.2085 - mean_iou: 0.4821 - acc: 0.9163 - val_loss: 0.1455 - val_mean_iou: 0.5349 - val_acc: 0.9422\n",
      "Epoch 3/50\n",
      "592/603 [============================>.] - ETA: 5s - loss: 0.1435 - mean_iou: 0.5707 - acc: 0.9435 Epoch 00002: val_loss improved from 0.14554 to 0.10752, saving model to /Users/Lena/Documents/DATA/NucleiSegmentationDL/u_net_model-dsbowl2018-1.h5\n",
      "603/603 [==============================] - 336s - loss: 0.1422 - mean_iou: 0.5712 - acc: 0.9440 - val_loss: 0.1075 - val_mean_iou: 0.6051 - val_acc: 0.9583\n",
      "Epoch 4/50\n",
      "592/603 [============================>.] - ETA: 6s - loss: 0.1228 - mean_iou: 0.6310 - acc: 0.9523 Epoch 00003: val_loss improved from 0.10752 to 0.10726, saving model to /Users/Lena/Documents/DATA/NucleiSegmentationDL/u_net_model-dsbowl2018-1.h5\n",
      "603/603 [==============================] - 380s - loss: 0.1226 - mean_iou: 0.6313 - acc: 0.9523 - val_loss: 0.1073 - val_mean_iou: 0.6513 - val_acc: 0.9585\n",
      "Epoch 5/50\n",
      "592/603 [============================>.] - ETA: 7s - loss: 0.1184 - mean_iou: 0.6666 - acc: 0.9542 Epoch 00004: val_loss improved from 0.10726 to 0.09576, saving model to /Users/Lena/Documents/DATA/NucleiSegmentationDL/u_net_model-dsbowl2018-1.h5\n",
      "603/603 [==============================] - 407s - loss: 0.1190 - mean_iou: 0.6668 - acc: 0.9540 - val_loss: 0.0958 - val_mean_iou: 0.6803 - val_acc: 0.9621\n",
      "Epoch 6/50\n",
      "592/603 [============================>.] - ETA: 9s - loss: 0.1041 - mean_iou: 0.6924 - acc: 0.9598 Epoch 00005: val_loss did not improve\n",
      "603/603 [==============================] - 540s - loss: 0.1037 - mean_iou: 0.6926 - acc: 0.9599 - val_loss: 0.0961 - val_mean_iou: 0.7032 - val_acc: 0.9625\n",
      "Epoch 7/50\n",
      "592/603 [============================>.] - ETA: 7s - loss: 0.1006 - mean_iou: 0.7117 - acc: 0.9610 Epoch 00006: val_loss improved from 0.09576 to 0.08677, saving model to /Users/Lena/Documents/DATA/NucleiSegmentationDL/u_net_model-dsbowl2018-1.h5\n",
      "603/603 [==============================] - 408s - loss: 0.1012 - mean_iou: 0.7118 - acc: 0.9608 - val_loss: 0.0868 - val_mean_iou: 0.7198 - val_acc: 0.9676\n",
      "Epoch 8/50\n",
      "592/603 [============================>.] - ETA: 4s - loss: 0.0977 - mean_iou: 0.7269 - acc: 0.9624 Epoch 00007: val_loss did not improve\n",
      "603/603 [==============================] - 244s - loss: 0.0975 - mean_iou: 0.7270 - acc: 0.9624 - val_loss: 0.0873 - val_mean_iou: 0.7334 - val_acc: 0.9654\n",
      "Epoch 9/50\n",
      "592/603 [============================>.] - ETA: 5s - loss: 0.0931 - mean_iou: 0.7393 - acc: 0.9635 Epoch 00008: val_loss improved from 0.08677 to 0.07824, saving model to /Users/Lena/Documents/DATA/NucleiSegmentationDL/u_net_model-dsbowl2018-1.h5\n",
      "603/603 [==============================] - 303s - loss: 0.0923 - mean_iou: 0.7394 - acc: 0.9638 - val_loss: 0.0782 - val_mean_iou: 0.7445 - val_acc: 0.9696\n",
      "Epoch 10/50\n",
      "592/603 [============================>.] - ETA: 4s - loss: 0.0860 - mean_iou: 0.7495 - acc: 0.9661 Epoch 00009: val_loss did not improve\n",
      "603/603 [==============================] - 278s - loss: 0.0859 - mean_iou: 0.7496 - acc: 0.9661 - val_loss: 0.0799 - val_mean_iou: 0.7543 - val_acc: 0.9679\n",
      "Epoch 11/50\n",
      "592/603 [============================>.] - ETA: 4s - loss: 0.0862 - mean_iou: 0.7586 - acc: 0.9660 Epoch 00010: val_loss improved from 0.07824 to 0.07614, saving model to /Users/Lena/Documents/DATA/NucleiSegmentationDL/u_net_model-dsbowl2018-1.h5\n",
      "603/603 [==============================] - 271s - loss: 0.0859 - mean_iou: 0.7587 - acc: 0.9661 - val_loss: 0.0761 - val_mean_iou: 0.7625 - val_acc: 0.9705\n",
      "Epoch 12/50\n",
      "592/603 [============================>.] - ETA: 4s - loss: 0.0832 - mean_iou: 0.7660 - acc: 0.9669 Epoch 00011: val_loss did not improve\n",
      "603/603 [==============================] - 284s - loss: 0.0837 - mean_iou: 0.7661 - acc: 0.9669 - val_loss: 0.0766 - val_mean_iou: 0.7696 - val_acc: 0.9700\n",
      "Epoch 13/50\n",
      "592/603 [============================>.] - ETA: 4s - loss: 0.0821 - mean_iou: 0.7727 - acc: 0.9675 Epoch 00012: val_loss improved from 0.07614 to 0.07404, saving model to /Users/Lena/Documents/DATA/NucleiSegmentationDL/u_net_model-dsbowl2018-1.h5\n",
      "603/603 [==============================] - 273s - loss: 0.0819 - mean_iou: 0.7727 - acc: 0.9676 - val_loss: 0.0740 - val_mean_iou: 0.7756 - val_acc: 0.9708\n",
      "Epoch 14/50\n",
      "592/603 [============================>.] - ETA: 4s - loss: 0.0809 - mean_iou: 0.7784 - acc: 0.9683 Epoch 00013: val_loss improved from 0.07404 to 0.07151, saving model to /Users/Lena/Documents/DATA/NucleiSegmentationDL/u_net_model-dsbowl2018-1.h5\n",
      "603/603 [==============================] - 269s - loss: 0.0814 - mean_iou: 0.7784 - acc: 0.9681 - val_loss: 0.0715 - val_mean_iou: 0.7810 - val_acc: 0.9719\n",
      "Epoch 15/50\n",
      "592/603 [============================>.] - ETA: 4s - loss: 0.0795 - mean_iou: 0.7833 - acc: 0.9688 Epoch 00014: val_loss improved from 0.07151 to 0.07101, saving model to /Users/Lena/Documents/DATA/NucleiSegmentationDL/u_net_model-dsbowl2018-1.h5\n",
      "603/603 [==============================] - 266s - loss: 0.0807 - mean_iou: 0.7834 - acc: 0.9683 - val_loss: 0.0710 - val_mean_iou: 0.7858 - val_acc: 0.9723\n",
      "Epoch 16/50\n",
      "592/603 [============================>.] - ETA: 4s - loss: 0.0795 - mean_iou: 0.7880 - acc: 0.9687 Epoch 00015: val_loss did not improve\n",
      "603/603 [==============================] - 267s - loss: 0.0791 - mean_iou: 0.7881 - acc: 0.9688 - val_loss: 0.0715 - val_mean_iou: 0.7900 - val_acc: 0.9717\n",
      "Epoch 17/50\n",
      "592/603 [============================>.] - ETA: 4s - loss: 0.0783 - mean_iou: 0.7918 - acc: 0.9691 Epoch 00016: val_loss did not improve\n",
      "603/603 [==============================] - 266s - loss: 0.0779 - mean_iou: 0.7918 - acc: 0.9693 - val_loss: 0.0738 - val_mean_iou: 0.7938 - val_acc: 0.9700\n",
      "Epoch 18/50\n",
      "592/603 [============================>.] - ETA: 4s - loss: 0.0784 - mean_iou: 0.7954 - acc: 0.9690 Epoch 00017: val_loss improved from 0.07101 to 0.07091, saving model to /Users/Lena/Documents/DATA/NucleiSegmentationDL/u_net_model-dsbowl2018-1.h5\n",
      "603/603 [==============================] - 252s - loss: 0.0784 - mean_iou: 0.7954 - acc: 0.9690 - val_loss: 0.0709 - val_mean_iou: 0.7972 - val_acc: 0.9717\n",
      "Epoch 19/50\n",
      "592/603 [============================>.] - ETA: 3s - loss: 0.0772 - mean_iou: 0.7990 - acc: 0.9694Epoch 00018: val_loss improved from 0.07091 to 0.06821, saving model to /Users/Lena/Documents/DATA/NucleiSegmentationDL/u_net_model-dsbowl2018-1.h5\n",
      "603/603 [==============================] - 217s - loss: 0.0773 - mean_iou: 0.7990 - acc: 0.9694 - val_loss: 0.0682 - val_mean_iou: 0.8005 - val_acc: 0.9735\n",
      "Epoch 20/50\n",
      "592/603 [============================>.] - ETA: 4s - loss: 0.0774 - mean_iou: 0.8018 - acc: 0.9695 Epoch 00019: val_loss did not improve\n",
      "603/603 [==============================] - 238s - loss: 0.0776 - mean_iou: 0.8018 - acc: 0.9695 - val_loss: 0.0686 - val_mean_iou: 0.8032 - val_acc: 0.9727\n",
      "Epoch 21/50\n",
      "592/603 [============================>.] - ETA: 4s - loss: 0.0746 - mean_iou: 0.8045 - acc: 0.9705 Epoch 00020: val_loss did not improve\n",
      "603/603 [==============================] - 247s - loss: 0.0743 - mean_iou: 0.8045 - acc: 0.9707 - val_loss: 0.0685 - val_mean_iou: 0.8059 - val_acc: 0.9728\n",
      "Epoch 22/50\n",
      "592/603 [============================>.] - ETA: 4s - loss: 0.0752 - mean_iou: 0.8072 - acc: 0.9704 Epoch 00021: val_loss improved from 0.06821 to 0.06813, saving model to /Users/Lena/Documents/DATA/NucleiSegmentationDL/u_net_model-dsbowl2018-1.h5\n"
     ]
    },
    {
     "name": "stdout",
     "output_type": "stream",
     "text": [
      "603/603 [==============================] - 257s - loss: 0.0749 - mean_iou: 0.8072 - acc: 0.9706 - val_loss: 0.0681 - val_mean_iou: 0.8084 - val_acc: 0.9727\n",
      "Epoch 23/50\n",
      "592/603 [============================>.] - ETA: 4s - loss: 0.0736 - mean_iou: 0.8097 - acc: 0.9706 Epoch 00022: val_loss improved from 0.06813 to 0.06794, saving model to /Users/Lena/Documents/DATA/NucleiSegmentationDL/u_net_model-dsbowl2018-1.h5\n",
      "603/603 [==============================] - 261s - loss: 0.0737 - mean_iou: 0.8097 - acc: 0.9705 - val_loss: 0.0679 - val_mean_iou: 0.8108 - val_acc: 0.9736\n",
      "Epoch 24/50\n",
      "592/603 [============================>.] - ETA: 4s - loss: 0.0742 - mean_iou: 0.8118 - acc: 0.9708 Epoch 00023: val_loss did not improve\n",
      "603/603 [==============================] - 255s - loss: 0.0739 - mean_iou: 0.8118 - acc: 0.9709 - val_loss: 0.0693 - val_mean_iou: 0.8129 - val_acc: 0.9730\n",
      "Epoch 25/50\n",
      "592/603 [============================>.] - ETA: 4s - loss: 0.0747 - mean_iou: 0.8138 - acc: 0.9702 Epoch 00024: val_loss did not improve\n",
      "603/603 [==============================] - 260s - loss: 0.0743 - mean_iou: 0.8138 - acc: 0.9703 - val_loss: 0.0681 - val_mean_iou: 0.8148 - val_acc: 0.9724\n",
      "Epoch 26/50\n",
      "592/603 [============================>.] - ETA: 4s - loss: 0.0711 - mean_iou: 0.8159 - acc: 0.9718 Epoch 00025: val_loss did not improve\n",
      "603/603 [==============================] - 244s - loss: 0.0717 - mean_iou: 0.8159 - acc: 0.9716 - val_loss: 0.0694 - val_mean_iou: 0.8168 - val_acc: 0.9722\n",
      "Epoch 27/50\n",
      "592/603 [============================>.] - ETA: 4s - loss: 0.0742 - mean_iou: 0.8177 - acc: 0.9705 Epoch 00026: val_loss improved from 0.06794 to 0.06562, saving model to /Users/Lena/Documents/DATA/NucleiSegmentationDL/u_net_model-dsbowl2018-1.h5\n",
      "603/603 [==============================] - 244s - loss: 0.0743 - mean_iou: 0.8177 - acc: 0.9704 - val_loss: 0.0656 - val_mean_iou: 0.8185 - val_acc: 0.9743\n",
      "Epoch 28/50\n",
      "592/603 [============================>.] - ETA: 4s - loss: 0.0736 - mean_iou: 0.8193 - acc: 0.9710 Epoch 00027: val_loss did not improve\n",
      "603/603 [==============================] - 244s - loss: 0.0740 - mean_iou: 0.8193 - acc: 0.9708 - val_loss: 0.0681 - val_mean_iou: 0.8201 - val_acc: 0.9733\n",
      "Epoch 29/50\n",
      "592/603 [============================>.] - ETA: 4s - loss: 0.0722 - mean_iou: 0.8208 - acc: 0.9711 Epoch 00028: val_loss did not improve\n",
      "603/603 [==============================] - 244s - loss: 0.0723 - mean_iou: 0.8208 - acc: 0.9710 - val_loss: 0.0712 - val_mean_iou: 0.8215 - val_acc: 0.9711\n",
      "Epoch 30/50\n",
      "592/603 [============================>.] - ETA: 4s - loss: 0.0723 - mean_iou: 0.8222 - acc: 0.9712 Epoch 00029: val_loss did not improve\n",
      "603/603 [==============================] - 245s - loss: 0.0718 - mean_iou: 0.8222 - acc: 0.9714 - val_loss: 0.0659 - val_mean_iou: 0.8229 - val_acc: 0.9733\n",
      "Epoch 31/50\n",
      "592/603 [============================>.] - ETA: 4s - loss: 0.0719 - mean_iou: 0.8236 - acc: 0.9715 Epoch 00030: val_loss did not improve\n",
      "603/603 [==============================] - 245s - loss: 0.0720 - mean_iou: 0.8236 - acc: 0.9715 - val_loss: 0.0671 - val_mean_iou: 0.8243 - val_acc: 0.9734\n",
      "Epoch 32/50\n",
      "592/603 [============================>.] - ETA: 4s - loss: 0.0731 - mean_iou: 0.8249 - acc: 0.9712 Epoch 00031: val_loss did not improve\n",
      "603/603 [==============================] - 244s - loss: 0.0729 - mean_iou: 0.8249 - acc: 0.9713 - val_loss: 0.0675 - val_mean_iou: 0.8256 - val_acc: 0.9728\n",
      "Epoch 33/50\n",
      "592/603 [============================>.] - ETA: 4s - loss: 0.0704 - mean_iou: 0.8263 - acc: 0.9720 Epoch 00032: val_loss did not improve\n",
      "603/603 [==============================] - 244s - loss: 0.0704 - mean_iou: 0.8263 - acc: 0.9720 - val_loss: 0.0673 - val_mean_iou: 0.8269 - val_acc: 0.9734\n",
      "Epoch 00032: early stopping\n"
     ]
    }
   ],
   "source": [
    "\n",
    "# Fit model\n",
    "earlystopper = EarlyStopping(patience=5, verbose=1)\n",
    "checkpointer = ModelCheckpoint('/Users/Lena/Documents/DATA/NucleiSegmentationDL/u_net_model-dsbowl2018-1.h5', verbose=1, save_best_only=True)\n",
    "results = model.fit(X_train, Y_train, validation_split=0.1, batch_size=16, epochs=50, \n",
    "                    callbacks=[earlystopper, checkpointer])"
   ]
  },
  {
   "cell_type": "code",
   "execution_count": null,
   "metadata": {
    "collapsed": true
   },
   "outputs": [],
   "source": []
  },
  {
   "cell_type": "code",
   "execution_count": null,
   "metadata": {
    "collapsed": true
   },
   "outputs": [],
   "source": []
  }
 ],
 "metadata": {
  "kernelspec": {
   "display_name": "Python 2",
   "language": "python",
   "name": "python2"
  },
  "language_info": {
   "codemirror_mode": {
    "name": "ipython",
    "version": 2
   },
   "file_extension": ".py",
   "mimetype": "text/x-python",
   "name": "python",
   "nbconvert_exporter": "python",
   "pygments_lexer": "ipython2",
   "version": "2.7.13"
  }
 },
 "nbformat": 4,
 "nbformat_minor": 2
}
