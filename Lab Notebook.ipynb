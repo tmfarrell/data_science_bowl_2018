{
 "cells": [
  {
   "cell_type": "markdown",
   "metadata": {},
   "source": [
    "# Data Science Bowl Lab Notebook\n",
    "\n",
    "This notebook contains my notes for the [Data Science Bowl 2018](https://www.kaggle.com/c/data-science-bowl-2018/overview) competition.\n",
    "\n",
    "![Kaggle Poster](https://storage.googleapis.com/kaggle-media/competitions/dsb-2018/dsb.jpg)\n",
    "\n",
    "## Competition metric\n",
    "\n",
    "The competition metric is called \"Mean average precision\", computed at different intersection over union thresholds. \n",
    "\n",
    "$$\n",
    "IoU(A, B) = \\frac{A \\cap B}{A \\cup B}\n",
    "$$\n",
    "\n",
    "Threshold values range from 0.5 to 0.95 with a step size of 0.05. An object is counted as recognized if the $IoU$ value is above the threshold. The precision value at each threshold is computed as follows:\n",
    "\n",
    "$$\n",
    "precision(t) = \\frac{TP(t)}{TP(t) + FP(t) + FN(t)}\n",
    "$$\n",
    "\n",
    "A true positive means the predicted object matches the ground truth object with an IoU above the threshold. A false positive indicates a predicted object had no associated ground truth object. A false negative indicates a ground truth object with no associated predicted object. \n",
    "\n",
    "The average precision is then computed as:\n",
    "\n",
    "$$\n",
    "\\frac{1}{|thresholds|}\\sum_{t}\\frac{TP(t)}{TP(t)+FP(t)+FN(t)}\n",
    "$$"
   ]
  },
  {
   "cell_type": "code",
   "execution_count": 2,
   "metadata": {},
   "outputs": [],
   "source": [
    "from IPython.display import Image"
   ]
  },
  {
   "cell_type": "markdown",
   "metadata": {},
   "source": [
    "Let's play around a little bit to see "
   ]
  }
 ],
 "metadata": {
  "kernelspec": {
   "display_name": "Python 3",
   "language": "python",
   "name": "python3"
  },
  "language_info": {
   "codemirror_mode": {
    "name": "ipython",
    "version": 3
   },
   "file_extension": ".py",
   "mimetype": "text/x-python",
   "name": "python",
   "nbconvert_exporter": "python",
   "pygments_lexer": "ipython3",
   "version": "3.5.2"
  }
 },
 "nbformat": 4,
 "nbformat_minor": 2
}
